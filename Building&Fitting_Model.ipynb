{
  "nbformat": 4,
  "nbformat_minor": 0,
  "metadata": {
    "colab": {
      "name": "Building&Fitting_Model.ipynb",
      "version": "0.3.2",
      "provenance": [],
      "collapsed_sections": []
    },
    "kernelspec": {
      "display_name": "Python 3",
      "language": "python",
      "name": "python3"
    },
    "accelerator": "GPU"
  },
  "cells": [
    {
      "cell_type": "markdown",
      "metadata": {
        "id": "view-in-github",
        "colab_type": "text"
      },
      "source": [
        "[View in Colaboratory](https://colab.research.google.com/github/SwapnilSParkhe/Project-Image_Caption_Generation/blob/master/Building&Fitting_Model.ipynb)"
      ]
    },
    {
      "metadata": {
        "id": "vKHosnAe9jk7",
        "colab_type": "text"
      },
      "cell_type": "markdown",
      "source": [
        "# Building Model Architecture and Fitting to Data"
      ]
    },
    {
      "metadata": {
        "id": "qD71eYV--JpO",
        "colab_type": "text"
      },
      "cell_type": "markdown",
      "source": [
        "**Checking GPU status**"
      ]
    },
    {
      "metadata": {
        "id": "kea9R2Q--Sxz",
        "colab_type": "code",
        "colab": {
          "base_uri": "https://localhost:8080/",
          "height": 272
        },
        "outputId": "504c1b47-e665-48ec-83b2-cdff33d5a641"
      },
      "cell_type": "code",
      "source": [
        "from tensorflow.python.client import device_lib\n",
        "device_lib.list_local_devices()"
      ],
      "execution_count": 2,
      "outputs": [
        {
          "output_type": "execute_result",
          "data": {
            "text/plain": [
              "[name: \"/device:CPU:0\"\n",
              " device_type: \"CPU\"\n",
              " memory_limit: 268435456\n",
              " locality {\n",
              " }\n",
              " incarnation: 3396063252524753574, name: \"/device:GPU:0\"\n",
              " device_type: \"GPU\"\n",
              " memory_limit: 11288962663\n",
              " locality {\n",
              "   bus_id: 1\n",
              "   links {\n",
              "   }\n",
              " }\n",
              " incarnation: 1124319443613624125\n",
              " physical_device_desc: \"device: 0, name: Tesla K80, pci bus id: 0000:00:04.0, compute capability: 3.7\"]"
            ]
          },
          "metadata": {
            "tags": []
          },
          "execution_count": 2
        }
      ]
    },
    {
      "metadata": {
        "id": "sx-pKMxI9jk8",
        "colab_type": "text"
      },
      "cell_type": "markdown",
      "source": [
        "## Analytical Data Creation"
      ]
    },
    {
      "metadata": {
        "id": "6IOEkIvT9jk9",
        "colab_type": "text"
      },
      "cell_type": "markdown",
      "source": [
        "**Image ID or Identifiers**"
      ]
    },
    {
      "metadata": {
        "id": "HCPKCkuW_D0k",
        "colab_type": "code",
        "colab": {
          "resources": {
            "http://localhost:8080/nbextensions/google.colab/files.js": {
              "data": "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",
              "ok": true,
              "headers": [
                [
                  "content-type",
                  "application/javascript"
                ]
              ],
              "status": 200,
              "status_text": ""
            }
          },
          "base_uri": "https://localhost:8080/",
          "height": 158
        },
        "outputId": "1afa8cbd-27bb-4fd0-be94-a477185d91e6"
      },
      "cell_type": "code",
      "source": [
        "#Uploading relevant files from local to cloud (using google.colab lib)\n",
        "\n",
        "#Library for Uploading data from local to cloud\n",
        "from google.colab import files\n",
        "\n",
        "#Upload train image text\n",
        "files.upload()   #upload files \n",
        "\n",
        "#Upload valid image text\n",
        "files.upload()   #upload files"
      ],
      "execution_count": 5,
      "outputs": [
        {
          "output_type": "display_data",
          "data": {
            "text/html": [
              "\n",
              "     <input type=\"file\" id=\"files-057db488-a872-4289-948b-dfc299ed8a44\" name=\"files[]\" multiple disabled />\n",
              "     <output id=\"result-057db488-a872-4289-948b-dfc299ed8a44\">\n",
              "      Upload widget is only available when the cell has been executed in the\n",
              "      current browser session. Please rerun this cell to enable.\n",
              "      </output>\n",
              "      <script src=\"/nbextensions/google.colab/files.js\"></script> "
            ],
            "text/plain": [
              "<IPython.core.display.HTML object>"
            ]
          },
          "metadata": {
            "tags": []
          }
        },
        {
          "output_type": "stream",
          "text": [
            "Saving Flickr_8k.trainImages.txt to Flickr_8k.trainImages.txt\n"
          ],
          "name": "stdout"
        },
        {
          "output_type": "display_data",
          "data": {
            "text/html": [
              "\n",
              "     <input type=\"file\" id=\"files-bb24681c-5b17-4ccb-8638-5cbd77030059\" name=\"files[]\" multiple disabled />\n",
              "     <output id=\"result-bb24681c-5b17-4ccb-8638-5cbd77030059\">\n",
              "      Upload widget is only available when the cell has been executed in the\n",
              "      current browser session. Please rerun this cell to enable.\n",
              "      </output>\n",
              "      <script src=\"/nbextensions/google.colab/files.js\"></script> "
            ],
            "text/plain": [
              "<IPython.core.display.HTML object>"
            ]
          },
          "metadata": {
            "tags": []
          }
        },
        {
          "output_type": "stream",
          "text": [
            "Saving Flickr_8k.devImages.txt to Flickr_8k.devImages.txt\n"
          ],
          "name": "stdout"
        },
        {
          "output_type": "execute_result",
          "data": {
            "text/plain": [
              "{'Flickr_8k.devImages.txt': b'2090545563_a4e66ec76b.jpg\\n3393035454_2d2370ffd4.jpg\\n3695064885_a6922f06b2.jpg\\n1679557684_50a206e4a9.jpg\\n3582685410_05315a15b8.jpg\\n1579798212_d30844b4c5.jpg\\n269650644_059a84ece5.jpg\\n2596619849_7b635dd310.jpg\\n2635164923_2a774f7854.jpg\\n3583321426_f373c52161.jpg\\n2735792721_b8fe85e803.jpg\\n3484841598_e26ee96aab.jpg\\n2490687446_9d46fdf5a9.jpg\\n2987328689_96a2d814f1.jpg\\n2992614450_b5a6692239.jpg\\n2391812384_7429b5e567.jpg\\n3665179773_dd217416fc.jpg\\n3515904775_f8acc5909e.jpg\\n3616808182_fb4eaec778.jpg\\n3652150541_8fb5a3a5d1.jpg\\n3693961165_9d6c333d5b.jpg\\n2895700779_fac1d9d278.jpg\\n2474092890_6c0781a8ed.jpg\\n3420469425_2980b4cd30.jpg\\n537222436_ab406234ce.jpg\\n3419634480_c390f62a6e.jpg\\n2659183350_730951f740.jpg\\n1178705300_c224d9a4f1.jpg\\n989851184_9ef368e520.jpg\\n535123126_c06c1ab9bf.jpg\\n3226541300_6c81711e8e.jpg\\n3457784061_8f77f43a9c.jpg\\n3364715316_df8c20bac1.jpg\\n233361142_d9d5f0cae9.jpg\\n634891010_9fa189effb.jpg\\n2977379863_2e8d7a104e.jpg\\n3663951804_868982f3f9.jpg\\n3170802797_3c851bb475.jpg\\n2409597310_958f5d8aff.jpg\\n2384550175_e421d3a871.jpg\\n2786245676_0a69543832.jpg\\n3346918203_986dca6641.jpg\\n2597958208_e03aa149c9.jpg\\n3710520638_866d542a80.jpg\\n3435015880_eda46ff50f.jpg\\n391324644_d23fdf06cb.jpg\\n2381613738_d8d2012e3c.jpg\\n411175971_0fffd3b8c6.jpg\\n2475300106_b8563111ba.jpg\\n2752923489_d3bceebacb.jpg\\n3294952558_96bb8c8cf3.jpg\\n3286543624_7a327f79ae.jpg\\n1440024115_129212c988.jpg\\n111497985_38e9f88856.jpg\\n3512127856_18a4c7aace.jpg\\n3158327361_6f1a518228.jpg\\n3570800810_978c993133.jpg\\n2402793046_3385554e81.jpg\\n3197791645_601908f26b.jpg\\n3523819210_99782628fc.jpg\\n3183875944_b2be694e06.jpg\\n3161044966_27bf6f9dec.jpg\\n3209966887_5b744bd050.jpg\\n3535768334_a3924bcccd.jpg\\n3461110860_37ef15af8e.jpg\\n2863027424_9c75105660.jpg\\n396763804_3b7f1e12a8.jpg\\n3193511842_82549c21fb.jpg\\n2800990525_a1f8427272.jpg\\n3437034427_6df5e9fbf9.jpg\\n2885891981_6b02620ae9.jpg\\n369186134_5eef374112.jpg\\n3365602213_dd3287a633.jpg\\n3229913073_e7857a5966.jpg\\n2664103423_c539f61016.jpg\\n3240558825_cd859d6230.jpg\\n1680126311_b92a2e8e72.jpg\\n2578289278_01516d23a0.jpg\\n255741044_1102982213.jpg\\n255266148_7ba7df1a88.jpg\\n2890075175_4bd32b201a.jpg\\n3044359043_627488ddf0.jpg\\n2273799395_5072a5736d.jpg\\n2934628301_41ea2e6cf9.jpg\\n3319177177_130a72b8ae.jpg\\n427936315_0b8f7b8d23.jpg\\n443430496_3fea95a07d.jpg\\n2300229745_af7a20c959.jpg\\n3265162450_5b4e3c5f1b.jpg\\n1874617189_e85d3f4326.jpg\\n3532782283_341f0381a3.jpg\\n3396251819_1efa69310f.jpg\\n1387443857_602ab6f9bf.jpg\\n345785626_9fa59f38ce.jpg\\n2100735137_05c6079537.jpg\\n3631810528_7233c0f421.jpg\\n539801139_7258ee437f.jpg\\n465994762_1760e83c5d.jpg\\n2190137367_746335f707.jpg\\n3618504267_d7eaa495d0.jpg\\n2736508369_fd9ff0b42f.jpg\\n427557693_1108566fd2.jpg\\n2874876837_80d178ba9b.jpg\\n1731546544_9fbf14617b.jpg\\n3091580843_178042c50b.jpg\\n2642688531_8fb68b2147.jpg\\n470887781_faae5dae83.jpg\\n2420696992_22e0dd467d.jpg\\n3005126574_49c28ffbee.jpg\\n1164131282_b30926f332.jpg\\n2170187328_65c2f11891.jpg\\n1468389504_c724bdcad0.jpg\\n3115901702_f07aa0ef74.jpg\\n3459871361_92d1ecda36.jpg\\n1022454332_6af2c1449a.jpg\\n127450902_533ceeddfc.jpg\\n3608752424_01a1cfd8a6.jpg\\n2290330500_e7bdaa58e1.jpg\\n309049466_1d7e7d5fc2.jpg\\n3367053761_8ec5834bf3.jpg\\n2943334864_6bab479a3e.jpg\\n2203615439_3c7cdc39dc.jpg\\n3043904009_3b5e0412cd.jpg\\n3172280520_e7655fb596.jpg\\n2950637275_98f1e30cca.jpg\\n3287969199_08e775d896.jpg\\n3223973114_6c15538ce9.jpg\\n3481859121_3d3e566ec0.jpg\\n2366643786_9c9a830db8.jpg\\n3540416139_c884f38351.jpg\\n3549140234_e99b07c739.jpg\\n1420060118_aed262d606.jpg\\n560278886_df4bd2e212.jpg\\n3004287781_c041c09c16.jpg\\n3215108916_0473007b47.jpg\\n3421706363_a3e22a4908.jpg\\n97105139_fae46fe8ef.jpg\\n3198247669_7493af04a7.jpg\\n2318721455_80c6644441.jpg\\n2759089516_cbb993cb92.jpg\\n2405978603_6221b0c2e7.jpg\\n2293149170_38fb2257ea.jpg\\n3142055158_01b9e4caa4.jpg\\n2529205842_bdcb49d65b.jpg\\n3195147187_a073d59fa8.jpg\\n123997871_6a9ca987b1.jpg\\n1472249944_d887c3aeda.jpg\\n973827791_467d83986e.jpg\\n3163198309_bbfe504f0a.jpg\\n2225864432_48a24f49a4.jpg\\n2429212017_77fc107699.jpg\\n3047751696_78c2efe5e6.jpg\\n1378557186_4bd1da6834.jpg\\n3331009729_d3b14738e6.jpg\\n319870744_0e0138d205.jpg\\n2185793891_5a5e903ca6.jpg\\n2218907190_5f43bf5e4d.jpg\\n537579448_a7f92cef58.jpg\\n1984936420_3f3102132b.jpg\\n874665322_9ad05c4065.jpg\\n3165123595_8db9f918bf.jpg\\n2899276965_a20b839cfd.jpg\\n2158267555_db1d94e468.jpg\\n2481598514_05a65d1f72.jpg\\n3250076419_eb3de15063.jpg\\n947664583_7c63172366.jpg\\n3440952969_608eb5e42b.jpg\\n2502835694_4fe121bbea.jpg\\n300765528_8c8f709dda.jpg\\n2931254547_e97c6d0d63.jpg\\n782401952_5bc5d3413a.jpg\\n2589308405_e208b5e745.jpg\\n3222702477_34d2d24f1f.jpg\\n3488087117_2719647989.jpg\\n3604928725_58147c87cd.jpg\\n2814037463_74de97da86.jpg\\n241347664_4a3e7e5be7.jpg\\n572618443_647483ca82.jpg\\n282131366_5f9a39c43c.jpg\\n3012513414_86180c44cb.jpg\\n2574194729_1f099647ee.jpg\\n3563461991_de05537878.jpg\\n989754491_7e53fb4586.jpg\\n2701271123_6761bc5f26.jpg\\n3474985112_24ef46e82d.jpg\\n3553476195_fb3747d7c1.jpg\\n3215870337_c92a1a1b2f.jpg\\n274313927_404d0e94ab.jpg\\n2520909293_9bb7f7364e.jpg\\n3530342993_a4a1f0e516.jpg\\n3383037991_8f07784b81.jpg\\n501320769_31eea7b7ea.jpg\\n205682549_713aa6cd88.jpg\\n2505465055_f1e6cf9b76.jpg\\n911795495_342bb15b97.jpg\\n3621329299_6fb3f2935c.jpg\\n3541491057_61a49588d9.jpg\\n3691800116_6a7b315e46.jpg\\n313326614_b2adbe59e0.jpg\\n3730011701_5352e02286.jpg\\n3341961913_9a9b362f15.jpg\\n2198511848_311d8a8c2f.jpg\\n2623146491_b64698b875.jpg\\n2924884899_f512c84332.jpg\\n525887861_4cc7a1beca.jpg\\n2975118353_5af5a5df54.jpg\\n140526327_3cb984de09.jpg\\n2647394564_4843800cff.jpg\\n2752230113_b5dab6f0f1.jpg\\n3100442775_6e2659b973.jpg\\n267015208_d80b3eb94d.jpg\\n1991806812_065f747689.jpg\\n3079073247_97e88e2eb7.jpg\\n3703107969_175da4b276.jpg\\n2452686995_621878f561.jpg\\n1580671272_3e99d94305.jpg\\n2399551242_c62a46dd5f.jpg\\n214501174_6db1f4d69c.jpg\\n2052953131_30834196fb.jpg\\n454709143_9c513f095c.jpg\\n3101378069_f8caa14c0a.jpg\\n2441815792_43565b1312.jpg\\n441212506_fcc321ac28.jpg\\n241347300_7c84ecf764.jpg\\n3751594676_edfbfa0688.jpg\\n2556392380_ee57514233.jpg\\n3335692531_dd4a995f91.jpg\\n3427540832_c882fded1d.jpg\\n3205839744_24504ba179.jpg\\n3625519177_4c2bb9e7f0.jpg\\n244760289_f4467b2b67.jpg\\n3477369101_8e0c61d8f4.jpg\\n2374247382_023a86b9ca.jpg\\n2312746782_4528a5b818.jpg\\n3231880001_193a579b97.jpg\\n3656225270_cdf89e3240.jpg\\n2106772874_381824648b.jpg\\n3501936223_6122a13d27.jpg\\n911527312_f81ee36b97.jpg\\n3429351222_17ae744daf.jpg\\n395461421_c586b136de.jpg\\n3514297698_0512623955.jpg\\n2060031241_a3ae7a06bb.jpg\\n2737233999_34d60dc5c3.jpg\\n2542415282_9240e1b5fc.jpg\\n3249062399_0dafe5e4f5.jpg\\n2061927950_dafba5b8a3.jpg\\n191003283_992257f835.jpg\\n2399219552_bbba0a9a59.jpg\\n1476241331_2f43b67aed.jpg\\n2826574228_c63009e473.jpg\\n2858759108_6e697c5f3e.jpg\\n393958545_48c17c66d1.jpg\\n2934801096_230ae78d7e.jpg\\n2481367956_8577d2fa98.jpg\\n1501297480_8db52c15b0.jpg\\n2914800692_0c512d27b8.jpg\\n3286761458_34af7e4499.jpg\\n3541483943_9776baee7c.jpg\\n2842439618_fb20fe2215.jpg\\n146098876_0d99d7fb98.jpg\\n3398788809_25c71ba018.jpg\\n3710050559_f6f12760fe.jpg\\n2695093520_5cfeb0729d.jpg\\n3697456750_460aea7252.jpg\\n3548191125_514f47e493.jpg\\n2902486045_6298eb22ef.jpg\\n2431120202_b24fe2333a.jpg\\n3211210739_3dea005fde.jpg\\n466176275_f40d37851e.jpg\\n2009636597_e3f4fe19fb.jpg\\n3410899419_4f8dca6f3f.jpg\\n2629346153_155ba73ae9.jpg\\n3495349745_1b29a63571.jpg\\n1077546505_a4f6c4daa9.jpg\\n3314180199_2121e80368.jpg\\n2765747519_2b851e01d6.jpg\\n145721498_a27d2db576.jpg\\n525538142_7348f0bce7.jpg\\n2483792149_a9b4ffecec.jpg\\n2630806789_6835bbae95.jpg\\n2428094795_d3a8f46046.jpg\\n2296166785_292a4e9f4c.jpg\\n3207343907_995f7ac1d2.jpg\\n441398149_297146e38d.jpg\\n3313620862_0c65c645f5.jpg\\n664341930_bd5c8b60ea.jpg\\n463875230_f19e83d6df.jpg\\n2485467050_1d5e2696d4.jpg\\n2515247156_c1b759fc33.jpg\\n3677964239_6406ed096f.jpg\\n3247693965_845b3b4349.jpg\\n416992999_654a99a903.jpg\\n3496028495_431cfdc042.jpg\\n2613889835_6f50a3b83b.jpg\\n435739506_2daf7f4887.jpg\\n2501742763_b2cb322087.jpg\\n2907073768_08fd7bdf60.jpg\\n2978810122_183e60ff2d.jpg\\n3700004668_99c3e3f55b.jpg\\n2737759676_4bc9be2daf.jpg\\n3181409177_edb09c2718.jpg\\n103106960_e8a41d64f8.jpg\\n540338917_57069687be.jpg\\n1295698260_e10c53c137.jpg\\n460478198_83039f2593.jpg\\n252124738_796599e94b.jpg\\n246231741_882b45c4e1.jpg\\n3519815055_304dc8e8d6.jpg\\n3537920947_6c5a956f47.jpg\\n2972864304_481aeffe50.jpg\\n3502897880_8392d0e4de.jpg\\n1131155939_b4b457b05e.jpg\\n2874984466_1aafec2c9f.jpg\\n421316045_ae7a1eb4bc.jpg\\n3720210639_18bb34e475.jpg\\n3522349685_f046f0e250.jpg\\n459778335_857d8ffebf.jpg\\n3330935489_9cb67ca36b.jpg\\n3590753142_61993d39df.jpg\\n1459250022_bf1eddad11.jpg\\n3371533654_73a12a35a4.jpg\\n2675397335_1dcdbd12f5.jpg\\n802594049_289e3c8420.jpg\\n576920249_df1bdc2068.jpg\\n756521713_5d3da56a54.jpg\\n3560125106_691c292893.jpg\\n2540203582_9a9ac92a5d.jpg\\n3455405300_aa3069ecaa.jpg\\n2187720319_112d00f07d.jpg\\n3346040664_5b584e6133.jpg\\n3030079705_0dee8a3e89.jpg\\n2775249812_f4db95e818.jpg\\n3711826708_bba64fb1e1.jpg\\n3401902253_cd27e6d0fe.jpg\\n2537583012_4a358a6a8a.jpg\\n2648310638_d6c576b5e4.jpg\\n2670637584_d96efb8afa.jpg\\n3213395965_2a823c6865.jpg\\n3088922727_4bdf2ccc94.jpg\\n3215896272_e9b4b547a9.jpg\\n2434006663_207a284cec.jpg\\n3373544964_c9f1253b7d.jpg\\n3126752627_dc2d6674da.jpg\\n3514278386_de2343577e.jpg\\n2201192417_d934730fea.jpg\\n3386953179_84c2d7922f.jpg\\n2734669176_c272b42597.jpg\\n607339469_af851c4119.jpg\\n2500567791_101d5ddee3.jpg\\n3689975998_72f50b6d91.jpg\\n2081679622_6f1442367d.jpg\\n2726262796_03bd63a155.jpg\\n2898304260_a4099a193a.jpg\\n3223709894_97824ba76f.jpg\\n2204695848_3d1b140212.jpg\\n3355683198_715fb1a2ac.jpg\\n3630991662_990f397f7c.jpg\\n2600386812_8790879d9a.jpg\\n2908466042_bf07cb52c7.jpg\\n2773682293_3b712e47ff.jpg\\n640203018_c0e7175831.jpg\\n107582366_d86f2d3347.jpg\\n3319899418_4bcf1b00d8.jpg\\n823675317_b5fbdb17b3.jpg\\n294098577_c10f32bcfa.jpg\\n3240351042_5d29c94b0e.jpg\\n1980882959_9a161f3469.jpg\\n3631023049_8a85bab19f.jpg\\n3278581900_8ce75a5332.jpg\\n3175712926_5a470d0886.jpg\\n2123932281_1a4fd38455.jpg\\n1138784872_69ade3f2ab.jpg\\n2752919987_8bfca604ab.jpg\\n1802092493_7b44fdb6b9.jpg\\n2661138991_d55aa0e5dc.jpg\\n3665169936_01ae94c9fd.jpg\\n3458625738_297857369c.jpg\\n2458033289_f0616879df.jpg\\n511749704_3037806cb1.jpg\\n2623496164_68ffeb5067.jpg\\n2141713971_e25eb12712.jpg\\n3271385712_ffd34f2de5.jpg\\n2053733930_e245615ad4.jpg\\n1801663973_5ad393caeb.jpg\\n3557324238_6ba58831d9.jpg\\n3357708906_fb3a54dd78.jpg\\n2987121689_f9de6c479b.jpg\\n2813784259_d201044d71.jpg\\n1077931201_1e0bb83105.jpg\\n1999444757_1b92efb590.jpg\\n2710563762_06d48329d7.jpg\\n1926129518_4350f4f552.jpg\\n3394654132_9a8659605c.jpg\\n693164706_9624582e69.jpg\\n2165461920_1a4144eb2b.jpg\\n3472485022_5d03e9852d.jpg\\n2210368267_0615754b48.jpg\\n2362481035_a7600875d0.jpg\\n3690425778_3b390b3ea5.jpg\\n2679565682_91ecd283ff.jpg\\n405534893_2d0f3b0147.jpg\\n2467853482_17009933e8.jpg\\n475317104_1cdc1653b4.jpg\\n2505056124_1276e8dbcb.jpg\\n3075068274_2a28a5263b.jpg\\n862177617_c2c0581075.jpg\\n1691573772_1adef8e40e.jpg\\n2579266054_1ec58aa92f.jpg\\n505944126_f9a6ab8944.jpg\\n3176968956_d942a93513.jpg\\n2596474836_79468f23a0.jpg\\n3203878596_cbb307ce3b.jpg\\n3673484638_dce87295fe.jpg\\n2346402952_e47d0065b6.jpg\\n719837187_3e7bf1d472.jpg\\n3163068926_d28ed3ef53.jpg\\n3644941648_012ec87848.jpg\\n3448490813_f9623e864d.jpg\\n3724581378_41049da264.jpg\\n1034276567_49bb87c51c.jpg\\n3421480658_b3518b6819.jpg\\n2618538137_44fffe10c4.jpg\\n3486538055_bcf4d3dfda.jpg\\n519167484_ee03e2a91e.jpg\\n2282522980_45cfa8e0cf.jpg\\n3711611500_ea47b58b6f.jpg\\n2057160636_6e9cf3b5f0.jpg\\n260392825_ea61660633.jpg\\n541046380_513e295384.jpg\\n1396064003_3fd949c9dd.jpg\\n3702038926_966fdaa311.jpg\\n2598012140_832863fcb9.jpg\\n3468023754_8a07d4c56e.jpg\\n309771854_952aabe3cc.jpg\\n2937461473_11bbace28c.jpg\\n247617035_9f2e821534.jpg\\n2833431496_09d999db4d.jpg\\n3549277110_24d4064ccd.jpg\\n3116011063_f4071ccce6.jpg\\n2403376030_903521c371.jpg\\n2090997177_76d482b158.jpg\\n3517023411_a8fbd15230.jpg\\n3328535573_33c3cd5b59.jpg\\n632251903_b36701a5e9.jpg\\n1426014905_da60d72957.jpg\\n3262849619_0bc4f88ef9.jpg\\n3478877323_0a507a601b.jpg\\n3154152744_4e93ec8a62.jpg\\n2090339522_d30d2436f9.jpg\\n2552438538_285a05b86c.jpg\\n2687672606_275169c35d.jpg\\n2574509968_e4692ae169.jpg\\n3262301835_9f1a49b80a.jpg\\n3342271377_446ffc34c0.jpg\\n262446581_06ef7d9445.jpg\\n2090387793_274ab4cf7d.jpg\\n3046190891_05c6ecd9b6.jpg\\n3716272233_7845ec5b3e.jpg\\n3009035153_715e39b440.jpg\\n862156271_3eacea90a8.jpg\\n2356574282_5078f08b58.jpg\\n519228867_2fd25e38d4.jpg\\n3585123310_9a8e94bd2b.jpg\\n3331525712_af1dcc47f2.jpg\\n3205214191_29b42b9b09.jpg\\n2286823363_7d554ea740.jpg\\n3484906808_ee20714408.jpg\\n3507670136_2e5f94accf.jpg\\n244399048_8332bb3270.jpg\\n3209620285_edfc479392.jpg\\n385835044_4aa11f6990.jpg\\n2944025729_5aecda30ee.jpg\\n501699433_f8df386cf9.jpg\\n3323076458_3ce72a1dae.jpg\\n3684562647_28dc325522.jpg\\n483039719_75181b2726.jpg\\n203114209_e4cd71a6b7.jpg\\n2165677531_e1d5e086f7.jpg\\n3532098999_4e07a0a17e.jpg\\n1370773415_967b1ffde1.jpg\\n3242088278_43eea5d17e.jpg\\n3421547427_53411b6278.jpg\\n3206919175_e3a11b6874.jpg\\n2709359730_13bca100af.jpg\\n2115620856_4fa5025ac6.jpg\\n3046431231_dc48851062.jpg\\n2346772831_b2748ba1f0.jpg\\n3259110412_9908c45144.jpg\\n1248357227_2b4175fc39.jpg\\n2480668859_6f9b46be6a.jpg\\n3175434849_859f09fe07.jpg\\n3053813297_7ce5f87710.jpg\\n2424111022_4e332b8aee.jpg\\n3019986034_7453777274.jpg\\n1570723692_3a2b064d43.jpg\\n3623650392_7b75d4de21.jpg\\n3676460610_8c52e8a355.jpg\\n2302516347_26054442f9.jpg\\n3457604528_302396c08c.jpg\\n241347356_8a515555fd.jpg\\n3243094580_ccd01679f5.jpg\\n3273489163_8209545810.jpg\\n3488837187_0c7264a16c.jpg\\n290019324_23582048d4.jpg\\n2393196444_8f4f540f5f.jpg\\n1425919702_ddb761aeec.jpg\\n3504275465_604ce2ef34.jpg\\n1410193619_13fff6c875.jpg\\n3393446245_37dd3f3b59.jpg\\n2883907436_82bf4a36b8.jpg\\n3191027142_33e86636ca.jpg\\n1056249424_ef2a2e041c.jpg\\n143552829_72b6ba49d4.jpg\\n2135502491_a15c6b5eae.jpg\\n3438981089_2ef1a6353c.jpg\\n2667549961_57e5e2c0a5.jpg\\n3396275223_ee080df8b5.jpg\\n2714674623_8cd05ac114.jpg\\n3504158556_1d410c8ff7.jpg\\n3672944692_8d24a44fc6.jpg\\n3599442049_e448c7c9b2.jpg\\n2431723485_bc6b8e6418.jpg\\n2339573065_91f1e3be60.jpg\\n2831723637_30d4456665.jpg\\n1332823164_c70a5d930e.jpg\\n3423509305_e399d005db.jpg\\n3231596071_f0c522a639.jpg\\n2248487956_2603f55ab9.jpg\\n3572144280_ea42bbd927.jpg\\n3432634159_1eb9a73306.jpg\\n3184031654_34b5c4ffe1.jpg\\n2061944672_0383e65c8a.jpg\\n2838619742_eed855d8a8.jpg\\n587604325_af5d6df679.jpg\\n3539840291_1c3eed701d.jpg\\n464506846_1734302b58.jpg\\n3517040752_debec03376.jpg\\n3522025527_c10e6ebd26.jpg\\n2866093652_aa717eb9ce.jpg\\n3365198533_539073002b.jpg\\n2772084628_c0ae29d87a.jpg\\n2976684095_ce7ccfd423.jpg\\n1745110280_0cbff5e273.jpg\\n2909081008_9a7bfc599a.jpg\\n3552206648_123bf4ac82.jpg\\n3326588088_172d1b2584.jpg\\n3247500085_c4f641aa84.jpg\\n2194797921_96af7a9467.jpg\\n2460159430_71ab1aacfa.jpg\\n3400041870_4e7732b40f.jpg\\n862187579_9faf4a51e0.jpg\\n3513362553_5fc5779e20.jpg\\n3255017708_2b02bfcdcf.jpg\\n3635991166_f95304af0a.jpg\\n2097403787_77a154f5b9.jpg\\n3328495660_ed0e3f29cf.jpg\\n3540598210_972f0ff573.jpg\\n3174156702_95a1cda2d9.jpg\\n2517284816_9b8fd3c6b6.jpg\\n3520869880_2e8b7d7842.jpg\\n3590647207_2d4ec3f52c.jpg\\n1306145560_1e37081b91.jpg\\n481887827_f8975dabf1.jpg\\n756004341_1a816df714.jpg\\n2993167197_e5d0a73530.jpg\\n424307754_1e2f44d265.jpg\\n326028454_fb396167e6.jpg\\n210126070_0d43b300b9.jpg\\n2921670682_6a77a6c3e9.jpg\\n804087017_330bcc8c56.jpg\\n3399616238_77acf4ee12.jpg\\n3446586125_cafa0bfd67.jpg\\n236144859_52f9e38885.jpg\\n3209523192_05a4cef844.jpg\\n2218843713_cf28ea319e.jpg\\n1346051107_9cdc14e070.jpg\\n134724228_30408cd77f.jpg\\n135235570_5698072cd4.jpg\\n2887750774_920eb171aa.jpg\\n251792066_b5233b3d86.jpg\\n3057618932_3b80ae85de.jpg\\n688940111_325a74674a.jpg\\n2192333873_2a0cbe849d.jpg\\n3240014971_ee2ea8406f.jpg\\n1089755335_0bfbfd30e6.jpg\\n2308256827_3c0a7d514d.jpg\\n3330675488_8692476a4a.jpg\\n3463268965_f22884fc69.jpg\\n3590739067_58baffb3a7.jpg\\n3189521080_133777bce5.jpg\\n2404520067_87798dbaee.jpg\\n425518464_a18b87c563.jpg\\n482882307_7dcb9eee11.jpg\\n90011335_cfdf9674c2.jpg\\n3211199368_ca78387f72.jpg\\n493542985_c85ad29ebe.jpg\\n2647062476_5ef31ba867.jpg\\n3225226381_9fe306fb9e.jpg\\n2920969723_83918fe909.jpg\\n136644885_f7d2bbf546.jpg\\n2148991939_3b9fd6c439.jpg\\n2980445969_a86f4e6a0e.jpg\\n2887171449_f54a2b9f39.jpg\\n3441701164_6dbbdf1bce.jpg\\n410042380_517ccee020.jpg\\n3622929632_26fb800000.jpg\\n2884651479_12e400ee58.jpg\\n241346105_c1c860db0d.jpg\\n3269087421_1d489abeae.jpg\\n1088767354_2acee738cf.jpg\\n2939371251_f923569a72.jpg\\n3542425197_2ef81c6051.jpg\\n1501985304_8c50093004.jpg\\n1468962616_5803b4397f.jpg\\n186346360_541047336f.jpg\\n3457460673_800d7f7dd9.jpg\\n1377668044_36398401dd.jpg\\n3134387321_3a253224c1.jpg\\n772403830_08b72c7da9.jpg\\n3623302162_099f983d58.jpg\\n3447876218_4ccf42d7a0.jpg\\n476740978_45b65ebe0c.jpg\\n2455286250_fb6a66175a.jpg\\n3098336319_a7e5b061d0.jpg\\n3712574653_e009f76d19.jpg\\n2095444126_201ff9f222.jpg\\n2752341621_54490b9b09.jpg\\n3198962089_e647d1b0cd.jpg\\n2589156742_c46bc82137.jpg\\n97577988_65e2eae14a.jpg\\n2444741900_5cb3ef3e1d.jpg\\n775664534_3f6de7d413.jpg\\n2602083686_e8a1af69cf.jpg\\n3186863842_5832573c5e.jpg\\n2059616165_b7c99c1009.jpg\\n1510078253_96e9ec50e7.jpg\\n2169067981_cc19268f23.jpg\\n3335885203_a3fe8e541f.jpg\\n3244910944_612b8ce98f.jpg\\n3370308329_7f2de5bb58.jpg\\n2597308074_acacc12e1b.jpg\\n3520936130_9e90872560.jpg\\n3242007318_01e82171aa.jpg\\n2795287622_da187a3e86.jpg\\n2904997007_23d4b94101.jpg\\n390986651_c801db91a0.jpg\\n3159641529_c2c74f3eaf.jpg\\n2085557551_7a88d01d4e.jpg\\n3104690333_4314d979de.jpg\\n96978713_775d66a18d.jpg\\n2978409165_acc4f29a40.jpg\\n288508162_1727873924.jpg\\n3219122000_bd6b4ae5ff.jpg\\n3405011838_f81117c99f.jpg\\n2745811124_12c4426b8b.jpg\\n2364774105_fbaf0c191f.jpg\\n229954612_a4438297ee.jpg\\n3091962081_194f2f3bd4.jpg\\n2107838729_a527e434bd.jpg\\n3449718979_e987c64e2d.jpg\\n239453674_0df7767208.jpg\\n3265864834_e0229020dd.jpg\\n159712188_d530dd478c.jpg\\n3508522093_51f6d77f45.jpg\\n2354064281_10afa38206.jpg\\n3122579598_14841c038a.jpg\\n2356664078_4b1e6e465d.jpg\\n3439243433_d5f3508612.jpg\\n2461990494_c5ece064cc.jpg\\n745563422_f4fa7d9157.jpg\\n3662963630_8f097e38d4.jpg\\n3689727848_b53f931130.jpg\\n3288173388_03bc2a844d.jpg\\n3212465975_b657f40eed.jpg\\n2573667207_a1bf49befc.jpg\\n514905846_b54d13946a.jpg\\n3273969811_42e9fa8f63.jpg\\n3652764505_87139e71f8.jpg\\n599366440_a238e805cf.jpg\\n2288530008_4ebcee2174.jpg\\n3679407035_708774de34.jpg\\n2768662025_44001fe5d1.jpg\\n3704698586_a42c25d0c1.jpg\\n3261666285_86fceb762d.jpg\\n534886684_a6c9f40fa1.jpg\\n3182570190_48214e54c7.jpg\\n2222186636_85e03e0b75.jpg\\n3587596696_9c5964c94d.jpg\\n3608663656_9192a21eeb.jpg\\n368393384_86defdcde8.jpg\\n1526325728_74eb4153d8.jpg\\n3624676866_8f6d0efcc9.jpg\\n2307451605_22e9c06530.jpg\\n2913207978_9e9624e249.jpg\\n3294830188_e46bd9b93c.jpg\\n3550276904_19de3561c5.jpg\\n300577374_bfccb0430b.jpg\\n2092177624_13ab757e8b.jpg\\n3380519003_9f91d5a7fb.jpg\\n3375920709_ef7370fa09.jpg\\n1087539207_9f77ab3aaf.jpg\\n2868136205_3cf679208d.jpg\\n3436313241_6c73153fb6.jpg\\n2480021389_dda9fb2818.jpg\\n1663454406_5e2cf8c5bb.jpg\\n3287904625_f68ca5cea7.jpg\\n1045521051_108ebc19be.jpg\\n624058168_f1c5e87e59.jpg\\n2173061319_1f267765dc.jpg\\n462080147_ca088e6541.jpg\\n179009558_69be522c63.jpg\\n2872197070_4e97c3ccfa.jpg\\n3351418768_596ef7fd6f.jpg\\n1429546659_44cb09cbe2.jpg\\n2931950813_93145c4746.jpg\\n1303548017_47de590273.jpg\\n2579572274_826598b14a.jpg\\n3231575742_31732664cf.jpg\\n2344699642_4fae2f4e07.jpg\\n3455757720_7aeba57056.jpg\\n3585488964_1467945775.jpg\\n1470536919_1f3fd6c65a.jpg\\n2109370875_05241bdda7.jpg\\n2800934095_b84a5009dd.jpg\\n2815755985_0fa55544c0.jpg\\n2217328285_b1d55c17ca.jpg\\n2714220101_c31db50b10.jpg\\n3005124440_c096b310fb.jpg\\n224026428_0165164ceb.jpg\\n2646540383_343e1ec9a4.jpg\\n3560081723_62da0035bd.jpg\\n3132832452_c354c6396c.jpg\\n2178095150_436b035741.jpg\\n3037558954_20115165e3.jpg\\n3525403875_7f95e0cbfe.jpg\\n2097489021_ca1b9f5c3b.jpg\\n3330333217_1a69497a74.jpg\\n611910909_4f8e43e070.jpg\\n2637904605_fc355816fc.jpg\\n2551344688_17a12a6948.jpg\\n1130369873_d80a1aa59c.jpg\\n3286198467_8880be127e.jpg\\n3041645937_ff7591d134.jpg\\n2911552402_5166bc173b.jpg\\n241346923_18bd84bea4.jpg\\n3381161854_af8b05243c.jpg\\n2695962887_a1647c567b.jpg\\n3255732353_fbc487aefc.jpg\\n3545793128_af3af544dc.jpg\\n2891162278_fbf96be4f4.jpg\\n3583293892_c96af8cd98.jpg\\n2693539377_5442430f81.jpg\\n3044745642_1d0784ff29.jpg\\n1469000260_5d473c8283.jpg\\n3487131146_9d3aca387a.jpg\\n3524612244_64f00afec5.jpg\\n3265527323_6431f00692.jpg\\n3036971334_78187a9570.jpg\\n405537503_f66ecc5073.jpg\\n3222842866_cb85243ce4.jpg\\n3410902181_b2a3c6eec9.jpg\\n2832453252_a06f7826a8.jpg\\n3235746553_a40416c00e.jpg\\n93922153_8d831f7f01.jpg\\n3256272547_5ae6c66293.jpg\\n2621771656_09a620da6d.jpg\\n3393152604_27bd1037f2.jpg\\n2261550615_b6c25d987b.jpg\\n2936590102_25036069a6.jpg\\n3549673305_4dfd44e04a.jpg\\n3553225222_f5ebe44af1.jpg\\n3215081286_d55541aa6b.jpg\\n2710416789_555180e399.jpg\\n3718305988_fe2c91fd44.jpg\\n2406591500_403f145905.jpg\\n3415178926_909db9400b.jpg\\n2579899436_5086a33c7a.jpg\\n2199083344_3aa77f4879.jpg\\n3500139659_b2a60b0141.jpg\\n3686078365_9e655e238f.jpg\\n3419197575_aa5b84a9f0.jpg\\n3257182199_5fda78d870.jpg\\n3420278866_1d17c12713.jpg\\n339822505_be3ccbb71f.jpg\\n3711664623_ef87105ea7.jpg\\n2936707421_8e629874b8.jpg\\n289860281_94d699f36d.jpg\\n661749711_6f408dad62.jpg\\n247706586_7e25c7adf8.jpg\\n3322200641_c2e51ff37b.jpg\\n1350811702_2ce7cfd0c5.jpg\\n524310507_51220580de.jpg\\n3217291172_10ef70af88.jpg\\n2094323311_27d58b1513.jpg\\n957682378_46c3b07bcd.jpg\\n23445819_3a458716c1.jpg\\n3173461705_b5cdeef1eb.jpg\\n2402744031_11f9f2f2b8.jpg\\n3653484549_f316590b0f.jpg\\n438639005_208bc59b0b.jpg\\n442220883_ff3d6e507f.jpg\\n2833820456_143ea6ce47.jpg\\n3356748019_2251399314.jpg\\n2187503678_fd743e0a00.jpg\\n1319634306_816f21677f.jpg\\n1177994172_10d143cb8d.jpg\\n3174453534_fcc927c647.jpg\\n2543017787_9720b4fa1c.jpg\\n2865703567_52de2444f2.jpg\\n1579206585_5ca6a24db0.jpg\\n440190907_bf8b7ba8ef.jpg\\n3119913014_688d4997d7.jpg\\n3393394134_0caac47e1c.jpg\\n2836360729_6500249fe6.jpg\\n2249480913_e1695e5c28.jpg\\n2906802485_dfebf09173.jpg\\n2121140070_a09644550b.jpg\\n3016521240_2ef20834b6.jpg\\n3139895886_5a6d495b13.jpg\\n414773731_c3f5bf43d5.jpg\\n3191982761_88793192ed.jpg\\n661755629_602ea4cf09.jpg\\n3485657956_7481582565.jpg\\n3173157541_70b16b4318.jpg\\n3416339125_0860d3d1eb.jpg\\n397286183_745abbf40d.jpg\\n3576536763_3c8c4f232e.jpg\\n1528205014_1323aa9dfd.jpg\\n2647229826_e0e0c65ef1.jpg\\n3333017828_b930b9d41b.jpg\\n3089107423_81a24eaf18.jpg\\n3150315970_8f045c41a4.jpg\\n2986280913_13fb2d472e.jpg\\n3482879314_d3387e95b1.jpg\\n2493974889_50ae29f1e1.jpg\\n3470303255_fbb41b8dd0.jpg\\n3444684583_6656e38088.jpg\\n2303426046_09cfd7bc4e.jpg\\n3532200762_b28c39d311.jpg\\n515797344_4ae75cb9b1.jpg\\n241347391_4fcd4639f4.jpg\\n2976537455_f3988c2d46.jpg\\n3330102093_1d6e35e78d.jpg\\n3594566537_55bd712fdb.jpg\\n3146355833_1b7fc80210.jpg\\n2502354602_f4d6dcf42d.jpg\\n2394857899_76bfdf720b.jpg\\n2898810636_84fb5c0b63.jpg\\n3420338549_bd78d35243.jpg\\n3186556417_b2d6921a20.jpg\\n3415113018_7b95ddcd11.jpg\\n3461049169_e068ae4f25.jpg\\n2422482455_b98d9c2120.jpg\\n3176131893_7181c733aa.jpg\\n1355935187_2c99648138.jpg\\n2986716822_e220754d32.jpg\\n2448210587_9fe7ea5f42.jpg\\n3559374748_f18c7caa55.jpg\\n2525716531_e6dedee421.jpg\\n3155279929_d1cddbe7cf.jpg\\n3679502342_7fe6ef8a36.jpg\\n236730743_0d4fd8de5a.jpg\\n463786229_b54c9a3436.jpg\\n3234890865_bb3c316968.jpg\\n3103231330_db98b14501.jpg\\n2703155733_19ac6f97a8.jpg\\n3292277400_f95cdd13d1.jpg\\n2877424957_9beb1dc49a.jpg\\n3094568845_d0b56c5651.jpg\\n3293945284_6a04e477a9.jpg\\n3604496023_c1f546423e.jpg\\n3146937399_8c046b7b1a.jpg\\n3578372039_57473f473c.jpg\\n2734219983_fe86a60bf9.jpg\\n413231421_43833a11f5.jpg\\n3443703471_14845d8850.jpg\\n2417745327_a2c2705043.jpg\\n2502935765_a0ae1fa7be.jpg\\n1032122270_ea6f0beedb.jpg\\n3404906655_bc51c69c1e.jpg\\n3005872315_e6771763bd.jpg\\n2987775031_3f9ac69319.jpg\\n2942311160_a154104c62.jpg\\n2481003841_06086eafc2.jpg\\n2269795781_46a296aa21.jpg\\n141755292_7a0b3364cf.jpg\\n2574230252_f5a1382dd4.jpg\\n3555573680_41c1540a86.jpg\\n3214381315_b54f5c9be4.jpg\\n490390951_87395fcb1c.jpg\\n3529314899_b4e533bb76.jpg\\n2099323664_bb20457f26.jpg\\n404850242_3a55a4c874.jpg\\n3134341610_3c55e373a7.jpg\\n1232148178_4f45cc3284.jpg\\n618771382_459bb492e4.jpg\\n3266261886_36e1323d2f.jpg\\n566384456_97da3c7bd6.jpg\\n124972799_de706b6d0b.jpg\\n3441145615_b4fcd9eea0.jpg\\n3306464579_1b16a0caf2.jpg\\n3112635165_2d614d7c1a.jpg\\n3563673070_71fa0903ed.jpg\\n3425918361_3b890d9575.jpg\\n2275253272_00f941366e.jpg\\n3192311620_99bda27fbd.jpg\\n2736902411_a0010f89ae.jpg\\n2602306033_2b3100d36b.jpg\\n415118186_64defc96f3.jpg\\n2266144051_614b2d62b0.jpg\\n244870123_dcb6e53643.jpg\\n3482787182_a5c6d4b386.jpg\\n3288174272_2daa06d360.jpg\\n3064097919_e536ab9693.jpg\\n2100046085_69b59b6645.jpg\\n3226796100_08c49cfa5c.jpg\\n3601978895_9fec23ce0c.jpg\\n3029043380_b28644ea5d.jpg\\n2038662925_f4fa8c2534.jpg\\n397815951_3b02090324.jpg\\n3218861747_5c5c547b66.jpg\\n424379231_23f1ade134.jpg\\n225699652_53f6fb33cd.jpg\\n3375014075_157388f8a9.jpg\\n2869009633_ea3cafd437.jpg\\n3561433412_3985208d53.jpg\\n381514859_b40418d9c3.jpg\\n3420284416_a90af1fb7a.jpg\\n2642474867_4e6346f809.jpg\\n3436259762_43709321ff.jpg\\n619169586_0a13ee7c21.jpg\\n3516285214_59823b341e.jpg\\n3694219419_a7a83d4886.jpg\\n263850317_5bb3a18a08.jpg\\n3722572342_6904d11d52.jpg\\n3425685827_03683e8e5a.jpg\\n3342272425_804316cb3d.jpg\\n166433861_70b66cd381.jpg\\n3187924573_203223e6c0.jpg\\n3480052428_c034b98a08.jpg\\n2890057168_c712f932e0.jpg\\n2450486758_a66fd296ea.jpg\\n295729735_8360f2e64c.jpg\\n3403263046_3cc701a07a.jpg\\n261883591_3f2bca823c.jpg\\n3504940491_94c43792ed.jpg\\n3470129475_9e58b6742c.jpg\\n3646820231_2abc736840.jpg\\n3613175012_bcd063e7c9.jpg\\n2140305708_591d10b54d.jpg\\n2193980605_4221c6474d.jpg\\n3170110692_d1e0e66cee.jpg\\n2983555530_a89f1f5ed7.jpg\\n2142232919_c857a09dd7.jpg\\n3077781040_bc27778609.jpg\\n3149804151_1cc8d10783.jpg\\n2905975229_7c37156dbe.jpg\\n27782020_4dab210360.jpg\\n232874193_c691df882d.jpg\\n3294179574_4f67e67d6f.jpg\\n2449446913_28fa5b7c75.jpg\\n3681414069_71ba164f71.jpg\\n3369258147_03db257f0f.jpg\\n1215334959_b1970965f7.jpg\\n1100214449_d10861e633.jpg\\n1478268555_7e301fc510.jpg\\n3232252882_05db7c2216.jpg\\n3033612929_764d977bd5.jpg\\n1388970365_162edcceb4.jpg\\n3445544288_68fdb25969.jpg\\n3401647850_685c03ffff.jpg\\n3482859574_3908de3427.jpg\\n497122685_a51b29dc46.jpg\\n3025495499_b15797b452.jpg\\n278007543_99f5a91a3e.jpg\\n621000329_84f48948eb.jpg\\n3094278545_febac56382.jpg\\n3568225554_73cdb19576.jpg\\n3495453699_1c9faedf3c.jpg\\n457945610_1a23b9ced0.jpg\\n3334300164_e75e0479ae.jpg\\n656260720_a7db4ce48b.jpg\\n3275711232_e261143664.jpg\\n1675679141_36c9bc2969.jpg\\n2806632713_edd6f6c893.jpg\\n3477315700_52a4d740a5.jpg\\n2417341107_97dbab9c5e.jpg\\n640053014_549d2f23d2.jpg\\n3425756814_13909354d4.jpg\\n3466891862_9afde75568.jpg\\n3430779304_43a2146f4b.jpg\\n3530502404_f8c3a3f61c.jpg\\n861661418_8a37024ace.jpg\\n3068407619_5207b26986.jpg\\n3487378989_c051d2715b.jpg\\n2189181027_a445b13438.jpg\\n2631625732_75b714e685.jpg\\n2665586311_9a5f4e3fbe.jpg\\n522652105_a89f1cf260.jpg\\n'}"
            ]
          },
          "metadata": {
            "tags": []
          },
          "execution_count": 5
        }
      ]
    },
    {
      "metadata": {
        "id": "g8KSTWjR9jk-",
        "colab_type": "code",
        "colab": {}
      },
      "cell_type": "code",
      "source": [
        "#Importing file: reading the content into Py file\n",
        "def import_file(input_file):\n",
        "    file=open(input_file,'r')   #creating a bridge btwn OS and Py files\n",
        "    content=file.read()   #reading content via the bridge\n",
        "    file.close()   #closing the bridge\n",
        "    return content\n",
        "\n",
        "imported_train=import_file('Flickr_8k.trainImages.txt') \n",
        "imported_valid=import_file('Flickr_8k.devImages.txt')    \n",
        "\n",
        "#Creating a set of image-IDs\n",
        "def create_img_set(file):\n",
        "    imgID_set=list()\n",
        "    for item in file.split('\\n'):   #accessing line by line\n",
        "        if len(item)<1:   #rejecting empty spaces\n",
        "            continue\n",
        "        imgID=item.split('.')[0]   #only taking imgID (rejecting 'jpg')\n",
        "        imgID_set.append(imgID)   #appending imgIDs to imgID_set\n",
        "    return set(imgID_set)\n",
        "\n",
        "imgID_trainset=create_img_set(imported_train)\n",
        "imgID_validset=create_img_set(imported_valid)"
      ],
      "execution_count": 0,
      "outputs": []
    },
    {
      "metadata": {
        "id": "l-KVDSdl9jlC",
        "colab_type": "text"
      },
      "cell_type": "markdown",
      "source": [
        "**Importing previously created files (from PreprocessingData NoteBook): Img desc and Img features**"
      ]
    },
    {
      "metadata": {
        "id": "PjiYF0TQARnm",
        "colab_type": "code",
        "colab": {
          "resources": {
            "http://localhost:8080/nbextensions/google.colab/files.js": {
              "data": "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",
              "ok": true,
              "headers": [
                [
                  "content-type",
                  "application/javascript"
                ]
              ],
              "status": 200,
              "status_text": ""
            }
          },
          "base_uri": "https://localhost:8080/",
          "height": 121
        },
        "outputId": "c751b74a-d907-454f-fc5b-aef626e7e959"
      },
      "cell_type": "code",
      "source": [
        "#Uploading relevant files from local to cloud (using google.colab lib)\n",
        "\n",
        "#Library for Uploading data from local to cloud\n",
        "from google.colab import files\n",
        "\n",
        "#Upload cleaned organised text file (from Text precprosssing step)\n",
        "files.upload()   #upload files \n",
        "\n",
        "#Upload features or weights file (from Image preprocessing step)\n",
        "files.upload()   #upload files"
      ],
      "execution_count": 7,
      "outputs": [
        {
          "output_type": "display_data",
          "data": {
            "text/html": [
              "\n",
              "     <input type=\"file\" id=\"files-b7f45a2e-4c46-4879-a0ee-e1d1c110a15e\" name=\"files[]\" multiple disabled />\n",
              "     <output id=\"result-b7f45a2e-4c46-4879-a0ee-e1d1c110a15e\">\n",
              "      Upload widget is only available when the cell has been executed in the\n",
              "      current browser session. Please rerun this cell to enable.\n",
              "      </output>\n",
              "      <script src=\"/nbextensions/google.colab/files.js\"></script> "
            ],
            "text/plain": [
              "<IPython.core.display.HTML object>"
            ]
          },
          "metadata": {
            "tags": []
          }
        },
        {
          "output_type": "stream",
          "text": [
            "Saving cln_orgnse_text.txt to cln_orgnse_text.txt\n"
          ],
          "name": "stdout"
        },
        {
          "output_type": "display_data",
          "data": {
            "text/html": [
              "\n",
              "     <input type=\"file\" id=\"files-563ebb55-e465-4c02-a7ca-fa62afe3309c\" name=\"files[]\" multiple disabled />\n",
              "     <output id=\"result-563ebb55-e465-4c02-a7ca-fa62afe3309c\">\n",
              "      Upload widget is only available when the cell has been executed in the\n",
              "      current browser session. Please rerun this cell to enable.\n",
              "      </output>\n",
              "      <script src=\"/nbextensions/google.colab/files.js\"></script> "
            ],
            "text/plain": [
              "<IPython.core.display.HTML object>"
            ]
          },
          "metadata": {
            "tags": []
          }
        },
        {
          "output_type": "stream",
          "text": [
            "Saving features.pkl to features.pkl\n"
          ],
          "name": "stdout"
        }
      ]
    },
    {
      "metadata": {
        "id": "9h3hx2SV9jlC",
        "colab_type": "code",
        "colab": {}
      },
      "cell_type": "code",
      "source": [
        "#Importing image desc files for this image data germane to training set\n",
        "def import_prepro_desc(prepro_file, dataset):\n",
        "    file=import_file(prepro_file)\n",
        "    desc=dict()\n",
        "    for item in file.split('\\n'):\n",
        "        tokens=item.split()   #splitting by whitespaces\n",
        "        image_ID,image_desc=tokens[0],tokens[1:]   #separating ID, desc\n",
        "        if image_ID in dataset:   #inner join imgID & training imgID \n",
        "            if image_ID not in desc:   #new list for new image_ID key \n",
        "                desc[image_ID]=list()\n",
        "            desc_='start ' + ' '.join(image_desc)+' end'   #wrap in tokens\n",
        "            desc[image_ID].append(desc_)\n",
        "    return desc\n",
        "\n",
        "desc_train=import_prepro_desc('cln_orgnse_text.txt',imgID_trainset)\n",
        "desc_valid=import_prepro_desc('cln_orgnse_text.txt',imgID_validset)\n",
        "\n",
        "#Importing image features for this image data germane to training set\n",
        "from pickle import load\n",
        "def import_features(feature_file, dataset):\n",
        "    all_features = load(open(feature_file, 'rb'))  #load all features\n",
        "    features = {k: all_features[k] for k in dataset} #inner join\n",
        "    return features\n",
        "\n",
        "feature_train=import_features('features.pkl',imgID_trainset) #used later\n",
        "feature_valid=import_features('features.pkl',imgID_validset) #used later"
      ],
      "execution_count": 0,
      "outputs": []
    },
    {
      "metadata": {
        "id": "qVVJsEMB9jlF",
        "colab_type": "text"
      },
      "cell_type": "markdown",
      "source": [
        "**Training data manipulations: Creating a custom Tokeizer function: Tokenizing descriptions**"
      ]
    },
    {
      "metadata": {
        "id": "xSizh-do9jlG",
        "colab_type": "code",
        "colab": {
          "base_uri": "https://localhost:8080/",
          "height": 105
        },
        "outputId": "7b8a80fa-af21-4b76-eda7-7743a4691a14"
      },
      "cell_type": "code",
      "source": [
        "#Creating a simple list of desc from dict of desc\n",
        "def dict2list(input_dict):\n",
        "    desc_list=list()\n",
        "    for key in input_dict.keys():\n",
        "        [desc_list.append(d) for d in input_dict[key]]\n",
        "    return desc_list\n",
        "\n",
        "desc_train_list=dict2list(desc_train)\n",
        "\n",
        "#tokeinizing (could be improved by filetring english stopwords later)\n",
        "#Note: turning each text into sequence of integers (integer: token ID)\n",
        "from keras.preprocessing.text import Tokenizer\n",
        "def tokenize(input_list):\n",
        "    tokenizer=Tokenizer()\n",
        "    tokenizer.fit_on_texts(input_list)\n",
        "    return tokenizer\n",
        "\n",
        "tokenizer=tokenize(desc_train_list) #to be used later\n",
        "vocab_size=len(tokenizer.word_index)+1 #to be used later\n",
        "print(\"Vocab Size:\",vocab_size)\n",
        "\n",
        "#Length of the description with the most words\n",
        "def max_length(desc_list):\n",
        "    max_len=max([len(item.split()) for item in desc_list])\n",
        "    return max_len\n",
        "max_length = max_length(desc_train_list) #to be used later\n",
        "print('Description Length', max_length)\n",
        "\n",
        "#Longest desc check\n",
        "def longest_desc(desc_list):\n",
        "    max_length=max([len(item.split()) for item in desc_list])\n",
        "    print(\"Max_len:\",max_length)\n",
        "    print(\"Desc:\", [item for item in desc_list if len(item.split())==max_length])\n",
        "\n",
        "longest_desc(desc_train_list)"
      ],
      "execution_count": 7,
      "outputs": [
        {
          "output_type": "stream",
          "text": [
            "Vocab Size: 7264\n",
            "Description Length 33\n",
            "Max_len: 33\n",
            "Desc: ['start an man wearing green sweatshirt and blue vest is holding up dollar bills in front of his face while standing on busy sidewalk in front of group of men playing instruments end']\n"
          ],
          "name": "stdout"
        }
      ]
    },
    {
      "metadata": {
        "id": "IvQh6N5V9jlN",
        "colab_type": "text"
      },
      "cell_type": "markdown",
      "source": [
        "**LSTM's Analytical Dataset: Input(ImageID and Seq_item)-Ouput(SeqWord) data**"
      ]
    },
    {
      "metadata": {
        "id": "RHUAPoyW9jlO",
        "colab_type": "code",
        "colab": {}
      },
      "cell_type": "code",
      "source": [
        "#Creating ADS for LSTM: Input(Image_ID and Seq_item)-Ouput(SeqWord)\n",
        "from keras.preprocessing.sequence import pad_sequences\n",
        "from keras.utils import to_categorical\n",
        "import numpy as np\n",
        "def create_ADS(tokenizer, max_length, desc_dict, img):\n",
        "    X_img_ID, X_desc_item, y=list(), list(), list()\n",
        "    for key, desc_list in desc_dict.items(): #key to access desc, img\n",
        "        for desc in desc_list:\n",
        "            seq=tokenizer.texts_to_sequences([desc])[0] #encoding seq\n",
        "            for i in range(1,len(seq)):#split seq into multi X,y pairs\n",
        "                in_seq, out_seq=seq[:i], seq[i] #desc input-output pair\n",
        "                in_seq=pad_sequences([in_seq], maxlen=max_length)[0]\n",
        "                out_seq=to_categorical([out_seq], num_classes=vocab_size)[0]\n",
        "                X_img_ID.append(img[key][0]) #same imgID for multi X-y pair\n",
        "                X_desc_item.append(in_seq)  #multi X-y pairs encoding\n",
        "                y.append(out_seq)   #oneHot encoded version of output word\n",
        "    return np.array(X_img_ID), np.array(X_desc_item), np.array(y)\n",
        "\n",
        "#X_img_ID_train, X_desc_item_train, y_train = create_ADS(tokenizer, max_length, desc_train, feature_train)\n",
        "X_img_ID_valid, X_desc_item_valid, y_valid = create_ADS(tokenizer, max_length, desc_valid, feature_valid)"
      ],
      "execution_count": 0,
      "outputs": []
    },
    {
      "metadata": {
        "id": "VJmJ8lWb9jlR",
        "colab_type": "text"
      },
      "cell_type": "markdown",
      "source": [
        "## Defining the model (Merge Model of Embeddings+LSTMs with CNN penultimate layer)\n",
        "**Note:** Combines both the encoded form (features) of the image input with the encoded form (context) of the text description generated so far; Combination of these two encoded inputs is then used by a very simple decoder model to generate the next word in the sequence"
      ]
    },
    {
      "metadata": {
        "id": "hCoFn7219jlR",
        "colab_type": "text"
      },
      "cell_type": "markdown",
      "source": [
        "![Merge Model of Image Captioning](https://i.pinimg.com/originals/35/8b/dc/358bdc11e71f8c78632560c7c819919d.png)"
      ]
    },
    {
      "metadata": {
        "id": "Cg8uJDkn9jlS",
        "colab_type": "text"
      },
      "cell_type": "markdown",
      "source": [
        "**Importing relevant libraries**"
      ]
    },
    {
      "metadata": {
        "id": "flMCXHs69jlS",
        "colab_type": "code",
        "colab": {}
      },
      "cell_type": "code",
      "source": [
        "from keras.layers import Input, Dropout, Dense #feat. encoding\n",
        "from keras.layers import Embedding, Dropout, LSTM #desc. encoding\n",
        "from keras.layers.merge import add #decoding\n",
        "from keras.models import Model #Model-Input-Output architecture"
      ],
      "execution_count": 0,
      "outputs": []
    },
    {
      "metadata": {
        "id": "MVR6G_jU9jlV",
        "colab_type": "code",
        "colab": {
          "base_uri": "https://localhost:8080/",
          "height": 510
        },
        "outputId": "5295c764-6bf5-4f64-e1b3-1801f2dfd725"
      },
      "cell_type": "code",
      "source": [
        "def build_model_arch(vocab_size, max_length):\n",
        "    #Encoder Models (Img-Feat and Desc Encoding)\n",
        "    #1.Image feature extractor model\n",
        "    feat_input=Input(shape=(4096,))\n",
        "    feat_1=Dropout(0.5)(feat_input)\n",
        "    feat_2=Dense(256, activation='relu')(feat_1)\n",
        "\n",
        "    #2.Embedding+LSTM sequence model\n",
        "    desc_input=Input(shape=(max_length,))\n",
        "    desc_1=Embedding(vocab_size, 256, mask_zero=True)(desc_input)\n",
        "    desc_2=Dropout(0.5)(desc_1)\n",
        "    desc_3=LSTM(256)(desc_2)\n",
        "\n",
        "    #Decoder Model ('adding' above encoding model layers; with FFNs)\n",
        "    deco_1=add([feat_2, desc_3]) #adding element wise for both vectors\n",
        "    deco_2=Dense(256, activation='relu')(deco_1)\n",
        "    output=Dense(vocab_size, activation='softmax')(deco_2)\n",
        "\n",
        "    #Creating Model-Input-Output architecture; Compiling (with loss, opt.)\n",
        "    model=Model(inputs=[feat_input, desc_input], outputs=output)\n",
        "    model.compile(loss='categorical_crossentropy', optimizer='adam')\n",
        "\n",
        "    #Summarizing and Plotting model\n",
        "    print(model.summary())\n",
        "    return model\n",
        "\n",
        "model = build_model_arch(vocab_size, max_length)"
      ],
      "execution_count": 10,
      "outputs": [
        {
          "output_type": "stream",
          "text": [
            "__________________________________________________________________________________________________\n",
            "Layer (type)                    Output Shape         Param #     Connected to                     \n",
            "==================================================================================================\n",
            "input_2 (InputLayer)            (None, 33)           0                                            \n",
            "__________________________________________________________________________________________________\n",
            "input_1 (InputLayer)            (None, 4096)         0                                            \n",
            "__________________________________________________________________________________________________\n",
            "embedding_1 (Embedding)         (None, 33, 256)      1859584     input_2[0][0]                    \n",
            "__________________________________________________________________________________________________\n",
            "dropout_1 (Dropout)             (None, 4096)         0           input_1[0][0]                    \n",
            "__________________________________________________________________________________________________\n",
            "dropout_2 (Dropout)             (None, 33, 256)      0           embedding_1[0][0]                \n",
            "__________________________________________________________________________________________________\n",
            "dense_1 (Dense)                 (None, 256)          1048832     dropout_1[0][0]                  \n",
            "__________________________________________________________________________________________________\n",
            "lstm_1 (LSTM)                   (None, 256)          525312      dropout_2[0][0]                  \n",
            "__________________________________________________________________________________________________\n",
            "add_1 (Add)                     (None, 256)          0           dense_1[0][0]                    \n",
            "                                                                 lstm_1[0][0]                     \n",
            "__________________________________________________________________________________________________\n",
            "dense_2 (Dense)                 (None, 256)          65792       add_1[0][0]                      \n",
            "__________________________________________________________________________________________________\n",
            "dense_3 (Dense)                 (None, 7264)         1866848     dense_2[0][0]                    \n",
            "==================================================================================================\n",
            "Total params: 5,366,368\n",
            "Trainable params: 5,366,368\n",
            "Non-trainable params: 0\n",
            "__________________________________________________________________________________________________\n",
            "None\n"
          ],
          "name": "stdout"
        }
      ]
    },
    {
      "metadata": {
        "id": "N86jVNzm9jla",
        "colab_type": "text"
      },
      "cell_type": "markdown",
      "source": [
        "## Fitting Model"
      ]
    },
    {
      "metadata": {
        "id": "0AkfJjHm9jlc",
        "colab_type": "code",
        "colab": {
          "base_uri": "https://localhost:8080/",
          "height": 411
        },
        "outputId": "99d4d1e6-c6fa-402c-b485-bc8d392ed424"
      },
      "cell_type": "code",
      "source": [
        "#Defining checkpoint callback\n",
        "from keras.callbacks import ModelCheckpoint\n",
        "filepath = 'model-ep{epoch:03d}-loss{loss:.3f}-val_loss{val_loss:.3f}.h5'\n",
        "checkpoint = ModelCheckpoint(filepath, monitor='val_loss', verbose=1, save_best_only=True, mode='min')\n",
        "\n",
        "#Fitting model to data (along side validation loss checks)\n",
        "model.fit([X_img_ID_train, X_desc_item_train], y_train, epochs=5, verbose=1, callbacks=[checkpoint], \n",
        "          validation_data=([X_img_ID_valid, X_desc_item_valid], y_valid))"
      ],
      "execution_count": 11,
      "outputs": [
        {
          "output_type": "stream",
          "text": [
            "Train on 50835 samples, validate on 50835 samples\n",
            "Epoch 1/5\n",
            "24384/50835 [=============>................] - ETA: 1:50 - loss: 5.5770"
          ],
          "name": "stdout"
        },
        {
          "output_type": "stream",
          "text": [
            "50835/50835 [==============================] - 267s 5ms/step - loss: 5.2323 - val_loss: 4.4434\n",
            "\n",
            "Epoch 00001: val_loss improved from inf to 4.44338, saving model to model-ep001-loss5.232-val_loss4.443.h5\n",
            "Epoch 2/5\n",
            " 4672/50835 [=>............................] - ETA: 3:12 - loss: 4.4181"
          ],
          "name": "stdout"
        },
        {
          "output_type": "stream",
          "text": [
            "50835/50835 [==============================] - 267s 5ms/step - loss: 4.2924 - val_loss: 3.9040\n"
          ],
          "name": "stdout"
        },
        {
          "output_type": "stream",
          "text": [
            "\n",
            "Epoch 00002: val_loss improved from 4.44338 to 3.90402, saving model to model-ep002-loss4.292-val_loss3.904.h5\n",
            "Epoch 3/5\n",
            "16544/50835 [========>.....................] - ETA: 2:22 - loss: 3.9252"
          ],
          "name": "stdout"
        },
        {
          "output_type": "stream",
          "text": [
            "50835/50835 [==============================] - 266s 5ms/step - loss: 3.9023 - val_loss: 3.5896\n",
            "\n",
            "Epoch 00003: val_loss improved from 3.90402 to 3.58964, saving model to model-ep003-loss3.902-val_loss3.590.h5\n",
            "Epoch 4/5\n",
            " 2656/50835 [>.............................] - ETA: 3:18 - loss: 3.6325"
          ],
          "name": "stdout"
        },
        {
          "output_type": "stream",
          "text": [
            "50835/50835 [==============================] - 266s 5ms/step - loss: 3.6434 - val_loss: 3.3596\n"
          ],
          "name": "stdout"
        },
        {
          "output_type": "stream",
          "text": [
            "\n",
            "Epoch 00004: val_loss improved from 3.58964 to 3.35963, saving model to model-ep004-loss3.643-val_loss3.360.h5\n",
            "Epoch 5/5\n",
            "16544/50835 [========>.....................] - ETA: 2:22 - loss: 3.4195"
          ],
          "name": "stdout"
        },
        {
          "output_type": "stream",
          "text": [
            "50835/50835 [==============================] - 269s 5ms/step - loss: 3.4394 - val_loss: 3.1396\n",
            "\n",
            "Epoch 00005: val_loss improved from 3.35963 to 3.13962, saving model to model-ep005-loss3.439-val_loss3.140.h5\n"
          ],
          "name": "stdout"
        },
        {
          "output_type": "execute_result",
          "data": {
            "text/plain": [
              "<keras.callbacks.History at 0x7fc8bbb040b8>"
            ]
          },
          "metadata": {
            "tags": []
          },
          "execution_count": 11
        }
      ]
    },
    {
      "metadata": {
        "id": "xVFqF9re9jlf",
        "colab_type": "code",
        "colab": {}
      },
      "cell_type": "code",
      "source": [
        ""
      ],
      "execution_count": 0,
      "outputs": []
    },
    {
      "metadata": {
        "id": "JhL281F1EFpE",
        "colab_type": "code",
        "colab": {}
      },
      "cell_type": "code",
      "source": [
        ""
      ],
      "execution_count": 0,
      "outputs": []
    },
    {
      "metadata": {
        "id": "E5mpmQGhEuQn",
        "colab_type": "code",
        "colab": {}
      },
      "cell_type": "code",
      "source": [
        ""
      ],
      "execution_count": 0,
      "outputs": []
    },
    {
      "metadata": {
        "id": "qMvFq1IzHx4q",
        "colab_type": "code",
        "colab": {}
      },
      "cell_type": "code",
      "source": [
        ""
      ],
      "execution_count": 0,
      "outputs": []
    },
    {
      "metadata": {
        "id": "p5mWIY1XJIc2",
        "colab_type": "code",
        "colab": {}
      },
      "cell_type": "code",
      "source": [
        ""
      ],
      "execution_count": 0,
      "outputs": []
    }
  ]
}